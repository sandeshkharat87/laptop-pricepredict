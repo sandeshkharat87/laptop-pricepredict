{
 "cells": [
  {
   "cell_type": "code",
   "execution_count": 13,
   "id": "ea6eaecf",
   "metadata": {},
   "outputs": [],
   "source": [
    "import pandas as pd\n",
    "import seaborn as sns\n",
    "import numpy as np"
   ]
  },
  {
   "cell_type": "code",
   "execution_count": 2,
   "id": "246b9953",
   "metadata": {},
   "outputs": [],
   "source": [
    "df = pd.read_csv('../Cleaned_laptopData.csv')"
   ]
  },
  {
   "cell_type": "code",
   "execution_count": 6,
   "id": "efedfd39",
   "metadata": {},
   "outputs": [],
   "source": [
    "df.drop('Unnamed: 0',1,inplace=True )"
   ]
  },
  {
   "cell_type": "code",
   "execution_count": 8,
   "id": "b290fd89",
   "metadata": {},
   "outputs": [],
   "source": [
    "df.drop(\"Memory\",1,inplace=True)"
   ]
  },
  {
   "cell_type": "code",
   "execution_count": 9,
   "id": "a455c268",
   "metadata": {},
   "outputs": [
    {
     "data": {
      "text/html": [
       "<div>\n",
       "<style scoped>\n",
       "    .dataframe tbody tr th:only-of-type {\n",
       "        vertical-align: middle;\n",
       "    }\n",
       "\n",
       "    .dataframe tbody tr th {\n",
       "        vertical-align: top;\n",
       "    }\n",
       "\n",
       "    .dataframe thead th {\n",
       "        text-align: right;\n",
       "    }\n",
       "</style>\n",
       "<table border=\"1\" class=\"dataframe\">\n",
       "  <thead>\n",
       "    <tr style=\"text-align: right;\">\n",
       "      <th></th>\n",
       "      <th>company</th>\n",
       "      <th>inches</th>\n",
       "      <th>ram</th>\n",
       "      <th>weight</th>\n",
       "      <th>price</th>\n",
       "      <th>new_screenreso</th>\n",
       "      <th>new_cpu</th>\n",
       "      <th>new_clockspd</th>\n",
       "      <th>new_gpu</th>\n",
       "      <th>new_OS</th>\n",
       "      <th>isTouchScrn</th>\n",
       "      <th>HDD</th>\n",
       "      <th>SSD</th>\n",
       "    </tr>\n",
       "  </thead>\n",
       "  <tbody>\n",
       "    <tr>\n",
       "      <th>0</th>\n",
       "      <td>Apple</td>\n",
       "      <td>13.3</td>\n",
       "      <td>8</td>\n",
       "      <td>1.37</td>\n",
       "      <td>71378.6832</td>\n",
       "      <td>2560x1600</td>\n",
       "      <td>Intel Core i5</td>\n",
       "      <td>2.3</td>\n",
       "      <td>Intel</td>\n",
       "      <td>MAC OS</td>\n",
       "      <td>0</td>\n",
       "      <td>0</td>\n",
       "      <td>128</td>\n",
       "    </tr>\n",
       "    <tr>\n",
       "      <th>1</th>\n",
       "      <td>Apple</td>\n",
       "      <td>13.3</td>\n",
       "      <td>8</td>\n",
       "      <td>1.34</td>\n",
       "      <td>47895.5232</td>\n",
       "      <td>1440x900</td>\n",
       "      <td>Intel Core i5</td>\n",
       "      <td>1.8</td>\n",
       "      <td>Intel</td>\n",
       "      <td>MAC OS</td>\n",
       "      <td>0</td>\n",
       "      <td>0</td>\n",
       "      <td>0</td>\n",
       "    </tr>\n",
       "    <tr>\n",
       "      <th>2</th>\n",
       "      <td>HP</td>\n",
       "      <td>15.6</td>\n",
       "      <td>8</td>\n",
       "      <td>1.86</td>\n",
       "      <td>30636.0000</td>\n",
       "      <td>1920x1080</td>\n",
       "      <td>Intel Core i5</td>\n",
       "      <td>2.5</td>\n",
       "      <td>Intel</td>\n",
       "      <td>Other</td>\n",
       "      <td>0</td>\n",
       "      <td>0</td>\n",
       "      <td>256</td>\n",
       "    </tr>\n",
       "    <tr>\n",
       "      <th>3</th>\n",
       "      <td>Apple</td>\n",
       "      <td>15.4</td>\n",
       "      <td>16</td>\n",
       "      <td>1.83</td>\n",
       "      <td>135195.3360</td>\n",
       "      <td>2880x1800</td>\n",
       "      <td>Intel Core i7</td>\n",
       "      <td>2.7</td>\n",
       "      <td>AMD</td>\n",
       "      <td>MAC OS</td>\n",
       "      <td>0</td>\n",
       "      <td>0</td>\n",
       "      <td>512</td>\n",
       "    </tr>\n",
       "    <tr>\n",
       "      <th>4</th>\n",
       "      <td>Apple</td>\n",
       "      <td>13.3</td>\n",
       "      <td>8</td>\n",
       "      <td>1.37</td>\n",
       "      <td>96095.8080</td>\n",
       "      <td>2560x1600</td>\n",
       "      <td>Intel Core i5</td>\n",
       "      <td>3.1</td>\n",
       "      <td>Intel</td>\n",
       "      <td>MAC OS</td>\n",
       "      <td>0</td>\n",
       "      <td>0</td>\n",
       "      <td>256</td>\n",
       "    </tr>\n",
       "    <tr>\n",
       "      <th>...</th>\n",
       "      <td>...</td>\n",
       "      <td>...</td>\n",
       "      <td>...</td>\n",
       "      <td>...</td>\n",
       "      <td>...</td>\n",
       "      <td>...</td>\n",
       "      <td>...</td>\n",
       "      <td>...</td>\n",
       "      <td>...</td>\n",
       "      <td>...</td>\n",
       "      <td>...</td>\n",
       "      <td>...</td>\n",
       "      <td>...</td>\n",
       "    </tr>\n",
       "    <tr>\n",
       "      <th>1298</th>\n",
       "      <td>Lenovo</td>\n",
       "      <td>14.0</td>\n",
       "      <td>4</td>\n",
       "      <td>1.80</td>\n",
       "      <td>33992.6400</td>\n",
       "      <td>1920x1080</td>\n",
       "      <td>Intel Core i7</td>\n",
       "      <td>2.5</td>\n",
       "      <td>Intel</td>\n",
       "      <td>Windows</td>\n",
       "      <td>1</td>\n",
       "      <td>0</td>\n",
       "      <td>128</td>\n",
       "    </tr>\n",
       "    <tr>\n",
       "      <th>1299</th>\n",
       "      <td>Lenovo</td>\n",
       "      <td>13.3</td>\n",
       "      <td>16</td>\n",
       "      <td>1.30</td>\n",
       "      <td>79866.7200</td>\n",
       "      <td>3200x1800</td>\n",
       "      <td>Intel Core i7</td>\n",
       "      <td>2.5</td>\n",
       "      <td>Intel</td>\n",
       "      <td>Windows</td>\n",
       "      <td>1</td>\n",
       "      <td>0</td>\n",
       "      <td>512</td>\n",
       "    </tr>\n",
       "    <tr>\n",
       "      <th>1300</th>\n",
       "      <td>Lenovo</td>\n",
       "      <td>14.0</td>\n",
       "      <td>2</td>\n",
       "      <td>1.50</td>\n",
       "      <td>12201.1200</td>\n",
       "      <td>1366x768</td>\n",
       "      <td>Intel other Processor</td>\n",
       "      <td>1.6</td>\n",
       "      <td>Intel</td>\n",
       "      <td>Windows</td>\n",
       "      <td>0</td>\n",
       "      <td>0</td>\n",
       "      <td>0</td>\n",
       "    </tr>\n",
       "    <tr>\n",
       "      <th>1301</th>\n",
       "      <td>HP</td>\n",
       "      <td>15.6</td>\n",
       "      <td>6</td>\n",
       "      <td>2.19</td>\n",
       "      <td>40705.9200</td>\n",
       "      <td>1366x768</td>\n",
       "      <td>Intel Core i7</td>\n",
       "      <td>2.5</td>\n",
       "      <td>AMD</td>\n",
       "      <td>Windows</td>\n",
       "      <td>0</td>\n",
       "      <td>1000</td>\n",
       "      <td>0</td>\n",
       "    </tr>\n",
       "    <tr>\n",
       "      <th>1302</th>\n",
       "      <td>Asus</td>\n",
       "      <td>15.6</td>\n",
       "      <td>4</td>\n",
       "      <td>2.20</td>\n",
       "      <td>19660.3200</td>\n",
       "      <td>1366x768</td>\n",
       "      <td>Intel other Processor</td>\n",
       "      <td>1.6</td>\n",
       "      <td>Intel</td>\n",
       "      <td>Windows</td>\n",
       "      <td>0</td>\n",
       "      <td>500</td>\n",
       "      <td>0</td>\n",
       "    </tr>\n",
       "  </tbody>\n",
       "</table>\n",
       "<p>1303 rows × 13 columns</p>\n",
       "</div>"
      ],
      "text/plain": [
       "     company  inches  ram  weight        price new_screenreso  \\\n",
       "0      Apple    13.3    8    1.37   71378.6832      2560x1600   \n",
       "1      Apple    13.3    8    1.34   47895.5232       1440x900   \n",
       "2         HP    15.6    8    1.86   30636.0000      1920x1080   \n",
       "3      Apple    15.4   16    1.83  135195.3360      2880x1800   \n",
       "4      Apple    13.3    8    1.37   96095.8080      2560x1600   \n",
       "...      ...     ...  ...     ...          ...            ...   \n",
       "1298  Lenovo    14.0    4    1.80   33992.6400      1920x1080   \n",
       "1299  Lenovo    13.3   16    1.30   79866.7200      3200x1800   \n",
       "1300  Lenovo    14.0    2    1.50   12201.1200       1366x768   \n",
       "1301      HP    15.6    6    2.19   40705.9200       1366x768   \n",
       "1302    Asus    15.6    4    2.20   19660.3200       1366x768   \n",
       "\n",
       "                    new_cpu  new_clockspd new_gpu   new_OS  isTouchScrn   HDD  \\\n",
       "0             Intel Core i5           2.3   Intel   MAC OS            0     0   \n",
       "1             Intel Core i5           1.8   Intel   MAC OS            0     0   \n",
       "2             Intel Core i5           2.5   Intel    Other            0     0   \n",
       "3             Intel Core i7           2.7     AMD   MAC OS            0     0   \n",
       "4             Intel Core i5           3.1   Intel   MAC OS            0     0   \n",
       "...                     ...           ...     ...      ...          ...   ...   \n",
       "1298          Intel Core i7           2.5   Intel  Windows            1     0   \n",
       "1299          Intel Core i7           2.5   Intel  Windows            1     0   \n",
       "1300  Intel other Processor           1.6   Intel  Windows            0     0   \n",
       "1301          Intel Core i7           2.5     AMD  Windows            0  1000   \n",
       "1302  Intel other Processor           1.6   Intel  Windows            0   500   \n",
       "\n",
       "      SSD  \n",
       "0     128  \n",
       "1       0  \n",
       "2     256  \n",
       "3     512  \n",
       "4     256  \n",
       "...   ...  \n",
       "1298  128  \n",
       "1299  512  \n",
       "1300    0  \n",
       "1301    0  \n",
       "1302    0  \n",
       "\n",
       "[1303 rows x 13 columns]"
      ]
     },
     "execution_count": 9,
     "metadata": {},
     "output_type": "execute_result"
    }
   ],
   "source": [
    "df"
   ]
  },
  {
   "cell_type": "code",
   "execution_count": 10,
   "id": "0cc48245",
   "metadata": {},
   "outputs": [],
   "source": [
    "X = df.drop(\"price\",1)\n",
    "Y = df.price"
   ]
  },
  {
   "cell_type": "code",
   "execution_count": 12,
   "id": "384c9af0",
   "metadata": {},
   "outputs": [
    {
     "data": {
      "text/plain": [
       "<seaborn.axisgrid.FacetGrid at 0x7fb608eb9908>"
      ]
     },
     "execution_count": 12,
     "metadata": {},
     "output_type": "execute_result"
    },
    {
     "data": {
      "image/png": "[encoded data removed]",
      "text/plain": [
       "<Figure size 360x360 with 1 Axes>"
      ]
     },
     "metadata": {
      "needs_background": "light"
     },
     "output_type": "display_data"
    }
   ],
   "source": [
    "sns.displot(Y)"
   ]
  },
  {
   "cell_type": "code",
   "execution_count": 14,
   "id": "522a83ad",
   "metadata": {},
   "outputs": [
    {
     "data": {
      "text/plain": [
       "<seaborn.axisgrid.FacetGrid at 0x7fb5ecbcce48>"
      ]
     },
     "execution_count": 14,
     "metadata": {},
     "output_type": "execute_result"
    },
    {
     "data": {
      "image/png": "[encoded data removed]",
      "text/plain": [
       "<Figure size 360x360 with 1 Axes>"
      ]
     },
     "metadata": {
      "needs_background": "light"
     },
     "output_type": "display_data"
    }
   ],
   "source": [
    "Y = np.log(Y)\n",
    "sns.displot(Y)"
   ]
  },
  {
   "cell_type": "code",
   "execution_count": 15,
   "id": "4a3f3f44",
   "metadata": {},
   "outputs": [],
   "source": [
    "from sklearn.model_selection import train_test_split, RandomizedSearchCV, GridSearchCV\n",
    "from sklearn.preprocessing import OneHotEncoder, StandardScaler\n",
    "from sklearn.pipeline import make_pipeline\n",
    "from sklearn.compose import make_column_transformer"
   ]
  },
  {
   "cell_type": "code",
   "execution_count": 16,
   "id": "37786492",
   "metadata": {},
   "outputs": [],
   "source": [
    "x_train,x_test,y_train,y_test = train_test_split(X,Y, random_state=43, test_size=0.20)"
   ]
  },
  {
   "cell_type": "code",
   "execution_count": 17,
   "id": "def62581",
   "metadata": {},
   "outputs": [
    {
     "name": "stdout",
     "output_type": "stream",
     "text": [
      "Index(['company', 'new_screenreso', 'new_cpu', 'new_gpu', 'new_OS'], dtype='object')\n",
      "Index(['inches', 'ram', 'weight', 'new_clockspd', 'isTouchScrn', 'HDD', 'SSD'], dtype='object')\n"
     ]
    }
   ],
   "source": [
    "##cols\n",
    "cat_cols = X.select_dtypes('O').columns\n",
    "num_cols = X.select_dtypes(exclude='O').columns\n",
    "print(cat_cols)\n",
    "print(num_cols)\n"
   ]
  },
  {
   "cell_type": "code",
   "execution_count": 18,
   "id": "500b2cba",
   "metadata": {},
   "outputs": [
    {
     "name": "stdout",
     "output_type": "stream",
     "text": [
      "<class 'pandas.core.frame.DataFrame'>\n",
      "RangeIndex: 1303 entries, 0 to 1302\n",
      "Data columns (total 12 columns):\n",
      " #   Column          Non-Null Count  Dtype  \n",
      "---  ------          --------------  -----  \n",
      " 0   company         1303 non-null   object \n",
      " 1   inches          1303 non-null   float64\n",
      " 2   ram             1303 non-null   int64  \n",
      " 3   weight          1303 non-null   float64\n",
      " 4   new_screenreso  1303 non-null   object \n",
      " 5   new_cpu         1303 non-null   object \n",
      " 6   new_clockspd    1303 non-null   float64\n",
      " 7   new_gpu         1303 non-null   object \n",
      " 8   new_OS          1303 non-null   object \n",
      " 9   isTouchScrn     1303 non-null   int64  \n",
      " 10  HDD             1303 non-null   int64  \n",
      " 11  SSD             1303 non-null   int64  \n",
      "dtypes: float64(3), int64(4), object(5)\n",
      "memory usage: 122.3+ KB\n"
     ]
    }
   ],
   "source": [
    "X.info()"
   ]
  },
  {
   "cell_type": "code",
   "execution_count": 37,
   "id": "f36d5a4a",
   "metadata": {},
   "outputs": [],
   "source": [
    "##prepro\n",
    "ohe = OneHotEncoder(sparse=False, handle_unknown='ignore')\n",
    "sc = StandardScaler()\n",
    "\n",
    "##pipe\n",
    "p_cats = make_pipeline(ohe)\n",
    "\n",
    "##TF\n",
    "TF = make_column_transformer(\n",
    "(p_cats, cat_cols),    \n",
    "remainder='passthrough'\n",
    "# passthrough\n",
    ")\n"
   ]
  },
  {
   "cell_type": "code",
   "execution_count": 38,
   "id": "8a6b3119",
   "metadata": {},
   "outputs": [
    {
     "data": {
      "text/plain": [
       "array([[0.00e+00, 0.00e+00, 1.00e+00, ..., 0.00e+00, 0.00e+00, 2.56e+02],\n",
       "       [0.00e+00, 0.00e+00, 0.00e+00, ..., 0.00e+00, 0.00e+00, 2.56e+02],\n",
       "       [0.00e+00, 0.00e+00, 0.00e+00, ..., 0.00e+00, 1.00e+03, 0.00e+00],\n",
       "       ...,\n",
       "       [0.00e+00, 0.00e+00, 0.00e+00, ..., 0.00e+00, 2.00e+03, 2.56e+02],\n",
       "       [1.00e+00, 0.00e+00, 0.00e+00, ..., 0.00e+00, 1.00e+03, 0.00e+00],\n",
       "       [0.00e+00, 0.00e+00, 0.00e+00, ..., 0.00e+00, 0.00e+00, 2.56e+02]])"
      ]
     },
     "execution_count": 38,
     "metadata": {},
     "output_type": "execute_result"
    }
   ],
   "source": [
    "TF.fit_transform(x_train)"
   ]
  },
  {
   "cell_type": "code",
   "execution_count": 54,
   "id": "3a7f8e75",
   "metadata": {},
   "outputs": [],
   "source": [
    "from sklearn.ensemble import RandomForestRegressor\n",
    "from sklearn.svm import SVR\n",
    "from sklearn.metrics import r2_score,mean_absolute_error\n",
    "rfc = RandomForestRegressor()\n",
    "svm = SVR()"
   ]
  },
  {
   "cell_type": "code",
   "execution_count": 91,
   "id": "4f6bb0ba",
   "metadata": {},
   "outputs": [],
   "source": [
    "def build_model(fm, x,y,x_test,y_test):\n",
    "    model = make_pipeline(TF,sc, fm)\n",
    "    model.fit(x,y)\n",
    "    y_pred = model.predict(x_test)\n",
    "    score =r2_score(y_pred, y_test)\n",
    "    mae = mean_absolute_error(y_pred, y_test)\n",
    "    print(f\"score: {score} , mae:{mae} \")\n",
    "    return model"
   ]
  },
  {
   "cell_type": "code",
   "execution_count": 92,
   "id": "e717e41b",
   "metadata": {},
   "outputs": [
    {
     "name": "stdout",
     "output_type": "stream",
     "text": [
      "score: 0.8869753282820748 , mae:0.14454968620574715 \n"
     ]
    }
   ],
   "source": [
    "fm1 = build_model(rfc, x_train,y_train, x_test, y_test)"
   ]
  },
  {
   "cell_type": "code",
   "execution_count": 93,
   "id": "5791ad12",
   "metadata": {},
   "outputs": [
    {
     "name": "stdout",
     "output_type": "stream",
     "text": [
      "score: 0.8251821952091686 , mae:0.17166358298942203 \n"
     ]
    }
   ],
   "source": [
    "fm2 = build_model(svm, x_train,y_train, x_test, y_test)"
   ]
  },
  {
   "cell_type": "code",
   "execution_count": 115,
   "id": "1d74b934",
   "metadata": {},
   "outputs": [
    {
     "name": "stdout",
     "output_type": "stream",
     "text": [
      "pred: 82556.5764424067, Y: [105228.] \n",
      "pred: 77901.80182785865, Y: [105228.] \n"
     ]
    }
   ],
   "source": [
    "test_this = x_test.sample(1)\n",
    "y_ans = y_test.loc[test_this.index]\n",
    "y_ans = np.array(np.exp(y_ans))\n",
    "print(f\"pred: {np.exp(fm1.predict(test_this))[0]}, Y: {y_ans} \")\n",
    "print(f\"pred: {np.exp(fm2.predict(test_this))[0]}, Y: {y_ans} \")\n"
   ]
  },
  {
   "cell_type": "code",
   "execution_count": 123,
   "id": "6ae2037f",
   "metadata": {},
   "outputs": [
    {
     "name": "stdout",
     "output_type": "stream",
     "text": [
      "score: 0.8593388289319073 , mae:0.15950720719779993 \n"
     ]
    },
    {
     "data": {
      "text/plain": [
       "Pipeline(steps=[('columntransformer',\n",
       "                 ColumnTransformer(remainder='passthrough',\n",
       "                                   transformers=[('pipeline',\n",
       "                                                  Pipeline(steps=[('onehotencoder',\n",
       "                                                                   OneHotEncoder(handle_unknown='ignore',\n",
       "                                                                                 sparse=False))]),\n",
       "                                                  Index(['company', 'new_screenreso', 'new_cpu', 'new_gpu', 'new_OS'], dtype='object'))])),\n",
       "                ('standardscaler', StandardScaler()),\n",
       "                ('randomforestregressor',\n",
       "                 RandomForestRegressor(min_samples_leaf=4, n_estimators=200))])"
      ]
     },
     "execution_count": 123,
     "metadata": {},
     "output_type": "execute_result"
    }
   ],
   "source": [
    "rfc = RandomForestRegressor(200, min_samples_leaf=4 )\n",
    "\n",
    "build_model(rfc, x_train,y_train, x_test,y_test)"
   ]
  },
  {
   "cell_type": "code",
   "execution_count": 124,
   "id": "4571b0cc",
   "metadata": {},
   "outputs": [
    {
     "data": {
      "text/plain": [
       "['LPTP.pkl']"
      ]
     },
     "execution_count": 124,
     "metadata": {},
     "output_type": "execute_result"
    }
   ],
   "source": [
    "import joblib\n",
    "joblib.dump(fm1,'LPTP.pkl')\n"
   ]
  },
  {
   "cell_type": "code",
   "execution_count": 126,
   "id": "5e80a466",
   "metadata": {},
   "outputs": [
    {
     "data": {
      "text/plain": [
       "['LPTP_DF.pkl']"
      ]
     },
     "execution_count": 126,
     "metadata": {},
     "output_type": "execute_result"
    }
   ],
   "source": [
    "joblib.dump(df, 'LPTP_DF.pkl')"
   ]
  },
  {
   "cell_type": "code",
   "execution_count": 127,
   "id": "9ba829af",
   "metadata": {},
   "outputs": [
    {
     "name": "stdout",
     "output_type": "stream",
     "text": [
      "/home/wpnx/Codes/MLDL/ML_DL_Projects/wpnx-tt/mainLaptop\r\n"
     ]
    }
   ],
   "source": [
    "!pwd"
   ]
  },
  {
   "cell_type": "code",
   "execution_count": 129,
   "id": "ade0fc49",
   "metadata": {},
   "outputs": [
    {
     "data": {
      "text/plain": [
       "Index(['company', 'inches', 'ram', 'weight', 'new_screenreso', 'new_cpu',\n",
       "       'new_clockspd', 'new_gpu', 'new_OS', 'isTouchScrn', 'HDD', 'SSD'],\n",
       "      dtype='object')"
      ]
     },
     "execution_count": 129,
     "metadata": {},
     "output_type": "execute_result"
    }
   ],
   "source": [
    "X.columns"
   ]
  },
  {
   "cell_type": "code",
   "execution_count": 130,
   "id": "4d0a68c0",
   "metadata": {},
   "outputs": [
    {
     "data": {
      "text/plain": [
       "['LPTP_DF.pkl']"
      ]
     },
     "execution_count": 130,
     "metadata": {},
     "output_type": "execute_result"
    }
   ],
   "source": [
    "joblib.dump(X,\"LPTP_DF.pkl\")"
   ]
  },
  {
   "cell_type": "code",
   "execution_count": null,
   "id": "d7b2662f",
   "metadata": {},
   "outputs": [],
   "source": []
  }
 ],
 "metadata": {
  "kernelspec": {
   "display_name": "Python 3",
   "language": "python",
   "name": "python3"
  },
  "language_info": {
   "codemirror_mode": {
    "name": "ipython",
    "version": 3
   },
   "file_extension": ".py",
   "mimetype": "text/x-python",
   "name": "python",
   "nbconvert_exporter": "python",
   "pygments_lexer": "ipython3",
   "version": "3.6.13"
  }
 },
 "nbformat": 4,
 "nbformat_minor": 5
}
